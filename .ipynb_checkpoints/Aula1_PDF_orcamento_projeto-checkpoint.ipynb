{
 "cells": [
  {
   "cell_type": "markdown",
   "id": "b93b1176",
   "metadata": {},
   "source": [
    "# Projeto: Gerador de PDF"
   ]
  },
  {
   "cell_type": "markdown",
   "id": "a12e40b1",
   "metadata": {},
   "source": [
    "# Colhendo dados, armazenando em memória e printando na tela"
   ]
  },
  {
   "cell_type": "code",
   "execution_count": 1,
   "id": "b57a5d94",
   "metadata": {},
   "outputs": [
    {
     "name": "stdout",
     "output_type": "stream",
     "text": [
      "Desenvolvimento Python\n",
      "Digite a descriçāo do projeto:XXX\n",
      "XXX\n",
      "Digite a quantidade de horas estimadas:40\n",
      "40\n",
      "Digite o valor da hora trabalhada:120\n",
      "120\n",
      "Digite o prazo de entrega:90\n",
      "90\n"
     ]
    }
   ],
   "source": [
    "projeto = \"Desenvolvimento Python\"\n",
    "print (projeto)\n",
    "\n",
    "projeto = input(\"Digite a descriçāo do projeto:\")\n",
    "print (projeto)\n",
    "\n",
    "horas_estimadas = input(\"Digite a quantidade de horas estimadas:\")\n",
    "print(horas_estimadas)\n",
    "\n",
    "valor_hora = input(\"Digite o valor da hora trabalhada:\")\n",
    "print(valor_hora)\n",
    "\n",
    "prazo = input(\"Digite o prazo de entrega:\")\n",
    "print(prazo)\n"
   ]
  },
  {
   "cell_type": "markdown",
   "id": "c95cf0df",
   "metadata": {},
   "source": [
    "# calculando o valor do projeto"
   ]
  },
  {
   "cell_type": "code",
   "execution_count": 2,
   "id": "a29e8557",
   "metadata": {},
   "outputs": [
    {
     "name": "stdout",
     "output_type": "stream",
     "text": [
      "40\n"
     ]
    }
   ],
   "source": [
    "print(horas_estimadas)\n",
    "\n"
   ]
  },
  {
   "cell_type": "code",
   "execution_count": 3,
   "id": "8a55d6e7",
   "metadata": {},
   "outputs": [],
   "source": [
    "valor_total = int(horas_estimadas) * int(valor_hora)\n"
   ]
  },
  {
   "cell_type": "code",
   "execution_count": 4,
   "id": "bac00d46",
   "metadata": {},
   "outputs": [
    {
     "name": "stdout",
     "output_type": "stream",
     "text": [
      "4800\n"
     ]
    }
   ],
   "source": [
    "print(valor_total)"
   ]
  },
  {
   "cell_type": "markdown",
   "id": "35a82577",
   "metadata": {},
   "source": [
    "# Gerar PDF"
   ]
  },
  {
   "cell_type": "code",
   "execution_count": 5,
   "id": "470489b1",
   "metadata": {},
   "outputs": [
    {
     "name": "stdout",
     "output_type": "stream",
     "text": [
      "Requirement already satisfied: fpdf in /Users/julianacunha/opt/anaconda3/lib/python3.9/site-packages (1.7.2)\n",
      "Orçamento gerado com sucesso!\n"
     ]
    }
   ],
   "source": [
    "!pip install fpdf\n",
    "\n",
    "from fpdf import FPDF\n",
    "pdf = FPDF()\n",
    "pdf.add_page()\n",
    "pdf.set_font(\"Arial\")\n",
    "\n",
    "pdf.image(\"template.png\", x=0, y=0)\n",
    "pdf.text(115, 145, projeto) \n",
    "pdf.text(115, 160, horas_estimadas)\n",
    "pdf.text(115, 175, valor_hora)\n",
    "pdf.text(115, 190, prazo)\n",
    "pdf.text(115, 205, str(valor_total))\n",
    "\n",
    "pdf.output(\"orçamento.pdf\")\n",
    "\n",
    "print(\"Orçamento gerado com sucesso!\")\n"
   ]
  },
  {
   "cell_type": "code",
   "execution_count": null,
   "id": "e0e796b9",
   "metadata": {},
   "outputs": [],
   "source": []
  },
  {
   "cell_type": "code",
   "execution_count": null,
   "id": "cd13a58e",
   "metadata": {},
   "outputs": [],
   "source": []
  }
 ],
 "metadata": {
  "kernelspec": {
   "display_name": "Python 3 (ipykernel)",
   "language": "python",
   "name": "python3"
  },
  "language_info": {
   "codemirror_mode": {
    "name": "ipython",
    "version": 3
   },
   "file_extension": ".py",
   "mimetype": "text/x-python",
   "name": "python",
   "nbconvert_exporter": "python",
   "pygments_lexer": "ipython3",
   "version": "3.9.12"
  }
 },
 "nbformat": 4,
 "nbformat_minor": 5
}
